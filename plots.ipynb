{
 "cells": [
  {
   "cell_type": "code",
   "execution_count": null,
   "metadata": {},
   "outputs": [],
   "source": [
    "def load_history(fname):\n",
    "    with open(fname, \"r\") as f:\n",
    "        data = f.read().splitlines()[1:-1]\n",
    "    keys = (\"epoch\", \"train_loss\", \"train_acc\", \"val_acc\")\n",
    "    data = [list(map(float, line.split(\",\"))) for line in data]\n",
    "    return {key: col for key, col in zip(keys, [*zip(*data)])}\n",
    "\n",
    "basic = load_history(\"out/basic.txt\")\n",
    "adam = load_history(\"out/adam.txt\")\n",
    "basic_l2 = load_history(\"out/basic_l2.txt\")\n",
    "basic_sch = load_history(\"out/basic_lr_sch.txt\")\n",
    "adam_sch = load_history(\"out/adam_lr_sch.txt\")"
   ]
  },
  {
   "cell_type": "code",
   "execution_count": null,
   "metadata": {},
   "outputs": [],
   "source": [
    "from matplotlib import pyplot as plt\n",
    "\n",
    "plt.plot(basic[\"val_acc\"], label=\"SGD\")\n",
    "plt.plot(adam[\"val_acc\"], label=\"Adam\")\n",
    "plt.plot(basic_l2[\"val_acc\"], label=\"SGD + L2\")\n",
    "plt.plot(basic_sch[\"val_acc\"], label=\"SGD + lr decay\")\n",
    "plt.plot(adam_sch[\"val_acc\"], label=\"Adam + lr decay\")\n",
    "plt.legend()\n",
    "plt.xlabel(\"epoch\")\n",
    "plt.ylabel(\"validation accuracy\")\n",
    "plt.savefig(\"assets/history.png\", dpi=150)"
   ]
  }
 ],
 "metadata": {
  "kernelspec": {
   "display_name": "nn-venv",
   "language": "python",
   "name": "python3"
  },
  "language_info": {
   "codemirror_mode": {
    "name": "ipython",
    "version": 3
   },
   "file_extension": ".py",
   "mimetype": "text/x-python",
   "name": "python",
   "nbconvert_exporter": "python",
   "pygments_lexer": "ipython3",
   "version": "3.10.12"
  }
 },
 "nbformat": 4,
 "nbformat_minor": 2
}
